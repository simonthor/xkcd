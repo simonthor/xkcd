{
 "cells": [
  {
   "cell_type": "markdown",
   "metadata": {},
   "source": [
    "# Transcript generator"
   ]
  },
  {
   "cell_type": "code",
   "execution_count": null,
   "metadata": {
    "jupyter": {
     "outputs_hidden": false
    },
    "pycharm": {
     "name": "#%%\n"
    }
   },
   "outputs": [],
   "source": [
    "import numpy as np\n",
    "from scipy import sparse\n",
    "import re\n",
    "import os\n",
    "datapath = 'data/transcripts/'"
   ]
  },
  {
   "cell_type": "markdown",
   "metadata": {},
   "source": [
    "## Load data"
   ]
  },
  {
   "cell_type": "code",
   "execution_count": null,
   "metadata": {},
   "outputs": [],
   "source": [
    "for i in os.listdir(datapath)[1:]:\n",
    "    with open(datapath + '1050.txt') as test_transcript_file:\n",
    "        re.split('\\n|\\[|\\]', test_transcript_file.read())"
   ]
  },
  {
   "cell_type": "markdown",
   "metadata": {},
   "source": [
    "## Preprocessing"
   ]
  },
  {
   "cell_type": "code",
   "execution_count": null,
   "metadata": {},
   "outputs": [],
   "source": [
    "with open(datapath + '1100.txt') as test_transcript_file:\n",
    "    transcript = test_transcript_file.read()\n",
    "transcript_words_raw = re.split(r'\\n|\\[|\\]| ', transcript)\n",
    "transcript_words = [word for word in transcript_words_raw if word != '']"
   ]
  },
  {
   "cell_type": "code",
   "execution_count": null,
   "metadata": {},
   "outputs": [],
   "source": [
    "# TODO: use awkward array or sparse matricies in the future\n",
    "unique_words = list(set(transcript_words))\n",
    "word_index = {word: unique_words.index(word) for word in unique_words}\n",
    "numberof_unique_words = len(unique_words)\n",
    "word_count = np.zeros((numberof_unique_words, numberof_unique_words))"
   ]
  },
  {
   "cell_type": "code",
   "execution_count": null,
   "metadata": {},
   "outputs": [],
   "source": [
    "for i, word in enumerate(transcript_words[:-1]):\n",
    "    word_after = transcript_words[i+1]\n",
    "    word_count[word_index[word], word_index[word_after]] += 1"
   ]
  },
  {
   "cell_type": "markdown",
   "metadata": {},
   "source": [
    "### Alternative structure if using Awkward Array\n",
    "```\n",
    "word_count  \n",
    "|-word1:  \n",
    "  |-wordA  \n",
    "    |-countA  \n",
    "  |-wordB  \n",
    "    |-countB  \n",
    "|-word2  \n",
    "```"
   ]
  },
  {
   "cell_type": "markdown",
   "metadata": {},
   "source": [
    "## Markov chains"
   ]
  },
  {
   "cell_type": "markdown",
   "metadata": {},
   "source": [
    "## Neural network"
   ]
  }
 ],
 "metadata": {
  "kernelspec": {
   "display_name": "xkcd [conda env:env-7]",
   "language": "python",
   "name": "conda-env-env-7-py"
  },
  "language_info": {
   "codemirror_mode": {
    "name": "ipython",
    "version": 3
   },
   "file_extension": ".py",
   "mimetype": "text/x-python",
   "name": "python",
   "nbconvert_exporter": "python",
   "pygments_lexer": "ipython3",
   "version": "3.7.7"
  }
 },
 "nbformat": 4,
 "nbformat_minor": 4
}
